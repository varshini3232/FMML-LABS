{
  "nbformat": 4,
  "nbformat_minor": 0,
  "metadata": {
    "colab": {
      "provenance": [],
      "include_colab_link": true
    },
    "kernelspec": {
      "name": "python3",
      "display_name": "Python 3"
    },
    "language_info": {
      "name": "python"
    }
  },
  "cells": [
    {
      "cell_type": "markdown",
      "metadata": {
        "id": "view-in-github",
        "colab_type": "text"
      },
      "source": [
        "<a href=\"https://colab.research.google.com/github/varshini3232/FMML-LABS/blob/main/FMML_2023_Basics_of_Python.ipynb\" target=\"_parent\"><img src=\"https://colab.research.google.com/assets/colab-badge.svg\" alt=\"Open In Colab\"/></a>"
      ]
    },
    {
      "cell_type": "markdown",
      "source": [
        "# Getting Started\n",
        "\n",
        "FMML Module 1, Lab 1 <br>\n",
        " Module Coordinator: Amit Pandey ( amit.pandey@research.iiit.ac.in ) <br>\n",
        " Release date: Aug 2022 <br>\n",
        "\n"
      ],
      "metadata": {
        "id": "TMVRKfbpTAeR"
      }
    },
    {
      "cell_type": "markdown",
      "source": [
        "### In this notebook we will be covering the very basics of Python and some basic libraries such as Numpy, Matplotlib and Nltk.\n",
        "#### It is suggested that you go through each line and try some examples."
      ],
      "metadata": {
        "id": "F-XjWYLBTI0f"
      }
    },
    {
      "cell_type": "markdown",
      "source": [
        "#### Section 1 - Python : Basic data types and indexing."
      ],
      "metadata": {
        "id": "wEyEnIhnTdhB"
      }
    },
    {
      "cell_type": "code",
      "source": [
        "## Strings\n",
        "'''\n",
        "A string is a collection of one or more characters put in a single quote,\n",
        " double-quote or triple quote. In python there is no character data type,\n",
        " a character is a string of length one. It is represented by str class.\n",
        "\n",
        "String can have special characters. String can be indexed\n",
        "\n",
        "'''\n",
        "\n",
        "\n",
        "name = 'First Lab'\n",
        "name_extended = name + 'Module 1'\n",
        "last_element_string = name[-1] # -1 in python is index of the last element.\n",
        "## indexing is important for preprocessing of the raw data."
      ],
      "metadata": {
        "id": "AzguFJmTQIqt"
      },
      "execution_count": 5,
      "outputs": []
    },
    {
      "cell_type": "code",
      "source": [
        "print(name ,\"\\n\", name_extended, \"\\n\", last_element_string)"
      ],
      "metadata": {
        "colab": {
          "base_uri": "https://localhost:8080/"
        },
        "id": "DPokcpuLQO6s",
        "outputId": "5dc19106-091b-4eef-ae42-b1ec4d0568e6"
      },
      "execution_count": 6,
      "outputs": [
        {
          "output_type": "stream",
          "name": "stdout",
          "text": [
            "First Lab \n",
            " First LabModule 1 \n",
            " b\n"
          ]
        }
      ]
    },
    {
      "cell_type": "code",
      "source": [
        "## List\n",
        "\n",
        "'''\n",
        "Lists are ordered collection of data, and are very similar to arrays,\n",
        "It is very flexible as the items in a list do not need to be of the same type.\n",
        "'''\n",
        "\n",
        "name_list = ['First Lab', 3 , '1.1' , 'Lab 1'] ## notice elements are of different data type.\n",
        "name_list.extend(['Module 1']) ## adding elements to list (Read about append method as well).\n",
        "element_2 = name_list[1] ## Just like other languages, the index starts from 0.\n",
        "two_dimesional_list = [[1,2],[3,4]] ## practice with multi-dimensional lists and arrays\n",
        "## you would soon be required to handle 4 dimensional data :p :)\n",
        "name_list[2] = '1.111' ##list elements can be changed"
      ],
      "metadata": {
        "id": "g7WZtwkpE2tO"
      },
      "execution_count": 7,
      "outputs": []
    },
    {
      "cell_type": "code",
      "source": [
        "print(name_list)\n",
        "print(element_2)\n",
        "print(two_dimesional_list)\n",
        "## list can have list, dictionary, string etc."
      ],
      "metadata": {
        "id": "vblBrQflE9Cs"
      },
      "execution_count": null,
      "outputs": []
    },
    {
      "cell_type": "code",
      "source": [
        "## Tuples\n",
        "\n",
        "name_tuple = ('First Lab', 1, (2,3),[1,1,'list having string']) ## A tuple can have a tuple.\n",
        "\n",
        "print(name_tuple[2])\n",
        "print(\"first indexing the last element of the tuple, which is a list and \\n then last element of the list (a string) and then second last element of the string:\")\n",
        "print(name_tuple[-1][-1][-2])\n"
      ],
      "metadata": {
        "colab": {
          "base_uri": "https://localhost:8080/"
        },
        "id": "x5eOXNK5FtlF",
        "outputId": "474b4e1f-10a0-4b82-e93a-611b0ccc02bd"
      },
      "execution_count": 10,
      "outputs": [
        {
          "output_type": "stream",
          "name": "stdout",
          "text": [
            "(2, 3)\n",
            "first indexing the last element of the tuple, which is a list and \n",
            " then last element of the list (a string) and then second last element of the string:\n",
            "n\n"
          ]
        }
      ]
    },
    {
      "cell_type": "code",
      "source": [
        "## tuples are immutable, read the error !\n",
        " #usued when passing parameters etc. and dont want them to be changed\n",
        "\n",
        "name_tuple = 2"
      ],
      "metadata": {
        "id": "m92Oab8YRha1"
      },
      "execution_count": 9,
      "outputs": []
    },
    {
      "cell_type": "code",
      "source": [
        "## Sets\n",
        "'''a Set is an unordered collection of data types that is iterable, mutable and has no duplicate elements.\n",
        "The order of elements in a set is undefined though it may consist of various elements.\n",
        "The major advantage of using a set, as opposed to a list,\n",
        " is that it has a highly optimized method for checking whether a specific element is contained in the set.\n",
        "'''\n",
        "set_unique = set([1,1,2,3,5,6,'Lab1'])\n",
        "print(set_unique) ##notice it is unordered\n",
        "last_el = set_unique.pop()\n",
        "set_unique.add((1,2))\n",
        "\n",
        "\n",
        "print(last_el)\n",
        "print(set_unique)\n",
        "\n",
        "\n",
        "\n",
        "\n"
      ],
      "metadata": {
        "id": "MfkMO0mlTcep",
        "colab": {
          "base_uri": "https://localhost:8080/"
        },
        "outputId": "564bf794-ab0c-4207-deb6-398fec7e4cad"
      },
      "execution_count": 3,
      "outputs": [
        {
          "output_type": "stream",
          "name": "stdout",
          "text": [
            "{1, 2, 3, 5, 6, 'Lab1'}\n",
            "1\n",
            "{2, 3, (1, 2), 5, 6, 'Lab1'}\n"
          ]
        }
      ]
    },
    {
      "cell_type": "code",
      "source": [
        "set_unique ##it is not indexable"
      ],
      "metadata": {
        "colab": {
          "base_uri": "https://localhost:8080/"
        },
        "id": "QgHlNSRPampd",
        "outputId": "f2f1663b-7183-4c57-a4f9-93470a037b93"
      },
      "execution_count": 4,
      "outputs": [
        {
          "output_type": "execute_result",
          "data": {
            "text/plain": [
              "{(1, 2), 2, 3, 5, 6, 'Lab1'}"
            ]
          },
          "metadata": {},
          "execution_count": 4
        }
      ]
    },
    {
      "cell_type": "code",
      "source": [
        "## Dictionary\n",
        "'''\n",
        "Dictionary in Python is an unordered collection of data values, used to store data values like a map,\n",
        " which, unlike other data types which hold only a single value as an element.\n",
        "'''\n",
        "\n",
        "dic = {'1': 'A','2':'B', 'C':3 } ##Observe how key and values can be anything\n",
        "dic['4'] ='New'\n",
        "print(dic)"
      ],
      "metadata": {
        "colab": {
          "base_uri": "https://localhost:8080/"
        },
        "id": "rxhE3hYtZxVb",
        "outputId": "446ff234-0646-45b2-e414-f08c81cd38c6"
      },
      "execution_count": 11,
      "outputs": [
        {
          "output_type": "stream",
          "name": "stdout",
          "text": [
            "{'1': 'A', '2': 'B', 'C': 3, '4': 'New'}\n"
          ]
        }
      ]
    },
    {
      "cell_type": "markdown",
      "source": [
        "#### Question 0:\n",
        "###### write down 3-5 methods applicable to each data type. (Hint: extend, reverse, etc."
      ],
      "metadata": {
        "id": "hizs_paeceA5"
      }
    },
    {
      "cell_type": "code",
      "source": [
        "list = [1, 2, 3, 4, 5]\n",
        "list.append(6)\n",
        "print(list)\n",
        "list.remove(3)\n",
        "print(list)\n",
        "list.extend([7, 8, 9])\n",
        "print(list)\n",
        "print(list.index(5))\n",
        "list.reverse()\n",
        "print(list)"
      ],
      "metadata": {
        "id": "d2Cd5iELzjeF",
        "outputId": "a7ab2e2c-430e-442d-c12a-b4acaab1f6ce",
        "colab": {
          "base_uri": "https://localhost:8080/"
        }
      },
      "execution_count": 12,
      "outputs": [
        {
          "output_type": "stream",
          "name": "stdout",
          "text": [
            "[1, 2, 3, 4, 5, 6]\n",
            "[1, 2, 4, 5, 6]\n",
            "[1, 2, 4, 5, 6, 7, 8, 9]\n",
            "3\n",
            "[9, 8, 7, 6, 5, 4, 2, 1]\n"
          ]
        }
      ]
    },
    {
      "cell_type": "markdown",
      "source": [
        "## Section 2 - Functions\n",
        "### a group of related statements that performs a specific task."
      ],
      "metadata": {
        "id": "tub_Skp3X1cN"
      }
    },
    {
      "cell_type": "code",
      "source": [
        "def add_new(a:str, b): ## a and b are the arguments that are passed. to provide data type hint\n",
        "                              # def add_new(x: float, y: float) -> float:\n",
        "  sum = a + b\n",
        "  return sum\n",
        "\n",
        "ans = add_new(1,2) ## intentionally written str, and passed int, to show it doesn't matter. It is just hint\n",
        "print(ans)"
      ],
      "metadata": {
        "colab": {
          "base_uri": "https://localhost:8080/"
        },
        "id": "K-6Q5T8nX_YF",
        "outputId": "40bc14c8-c1c1-4b4c-94c7-4533218cd55a"
      },
      "execution_count": 13,
      "outputs": [
        {
          "output_type": "stream",
          "name": "stdout",
          "text": [
            "3\n"
          ]
        }
      ]
    },
    {
      "cell_type": "code",
      "source": [
        "asn = add_new"
      ],
      "metadata": {
        "id": "aVLU3Bpu0YJV"
      },
      "execution_count": 14,
      "outputs": []
    },
    {
      "cell_type": "code",
      "source": [
        "def check_even_list(num_list):\n",
        "\n",
        "    even_numbers = []\n",
        "\n",
        "    # Go through each number\n",
        "    for number in num_list:\n",
        "        # Once we get a \"hit\" on an even number, we append the even number\n",
        "        if number % 2 == 0:\n",
        "            even_numbers.append(number)\n",
        "        # Don't do anything if its not even\n",
        "        else:\n",
        "            pass\n",
        "    # Notice the indentation! This ensures we run through the entire for loop\n",
        "    return even_numbers"
      ],
      "metadata": {
        "id": "aRa47XCsZLsh"
      },
      "execution_count": 15,
      "outputs": []
    },
    {
      "cell_type": "markdown",
      "source": [
        "#### Question 1 :\n",
        "\n",
        "##### Define a function, which takes in two strings A and B. Reverses the first string A, adds it to B, and returns the final string.\n",
        "\n",
        "\n",
        "#### Question 2 :\n",
        "##### Given a list having Names, work_hours, and gender, Write a function to print name of the female worker that worked the most hours. Also how much do should she be paid if the pay is $ 20 per hour.\n",
        "\n",
        "##### work_hours = [('Abby',100 , 'F'),('Billy',400, 'M'),('Cassie',800,'F'), ('Maggi',600,'F'),('Alex',500,'M'),('Raj',225,'M'),('Penny',920,'F'),('Ben',300,'M')]\n",
        "\n",
        "##### Answer : the female worker that worked the most hours is Penny and she should be paid 18400"
      ],
      "metadata": {
        "id": "heD0_u4D01jp"
      }
    },
    {
      "cell_type": "markdown",
      "source": [
        "A function is a block of code that performs a specific task. In Python, defining and calling functions is easy and can greatly improve the readability and reusability of your code."
      ],
      "metadata": {
        "id": "Q-nHJYUp0Sxv"
      }
    },
    {
      "cell_type": "code",
      "source": [
        "def reverse(string):\n",
        "    string = string[::-1]\n",
        "    return string\n",
        "\n",
        "s1 = \"varshini\"\n",
        "\n",
        "print(\"The original string is : \", end=\"\")\n",
        "print(s1)\n",
        "\n",
        "print(\"The reversed string(using extended slice syntax) is : \", end=\"\")\n",
        "print(reverse(s1))\n",
        "\n",
        "s2 = \"rama\"\n",
        "s3 = s1+s2\n",
        "\n",
        "print(s3)"
      ],
      "metadata": {
        "id": "_-dAfK0e07-5",
        "outputId": "e193a27a-cc76-4518-85ec-51b478fcbe97",
        "colab": {
          "base_uri": "https://localhost:8080/"
        }
      },
      "execution_count": 16,
      "outputs": [
        {
          "output_type": "stream",
          "name": "stdout",
          "text": [
            "The original string is : varshini\n",
            "The reversed string(using extended slice syntax) is : inihsrav\n",
            "varshinirama\n"
          ]
        }
      ]
    },
    {
      "cell_type": "markdown",
      "source": [
        "#### Section 3 - Libraries and Reading data."
      ],
      "metadata": {
        "id": "T9fGzOAKXhtt"
      }
    },
    {
      "cell_type": "markdown",
      "source": [
        "##### Numpy - One of the most used libraries - supports for large, multi-dimensional arrays and matrices, along with a large collection of high-level mathematical functions to operate on these arrays."
      ],
      "metadata": {
        "id": "TKVyOsBKYZXa"
      }
    },
    {
      "cell_type": "code",
      "source": [
        "import numpy as np"
      ],
      "metadata": {
        "id": "_ODaZ44RXkyg"
      },
      "execution_count": 17,
      "outputs": []
    },
    {
      "cell_type": "code",
      "source": [
        "\n",
        "a = np.array([1,1,2,3,4,5,5,6,1]) ## np.array converts given list to array\n",
        "\n",
        "b = a>1 ## important comparison operation, where frequently used in manipulation and image processing.\n",
        "\n",
        "print(b)\n",
        "print(a[b]) ## [printing only those values in a which are greater than 1]\n"
      ],
      "metadata": {
        "id": "29vs7Iicavlg"
      },
      "execution_count": null,
      "outputs": []
    },
    {
      "cell_type": "code",
      "source": [
        "a_range = np.arange(10,19).reshape(3,3) ## create a 3x3 array with values in range 10-19\n",
        "a_range\n"
      ],
      "metadata": {
        "colab": {
          "base_uri": "https://localhost:8080/"
        },
        "id": "MAGJJ1K_jCHN",
        "outputId": "6f566186-9e7a-4ee4-e85a-e08dc07bfadb"
      },
      "execution_count": 19,
      "outputs": [
        {
          "output_type": "execute_result",
          "data": {
            "text/plain": [
              "array([[10, 11, 12],\n",
              "       [13, 14, 15],\n",
              "       [16, 17, 18]])"
            ]
          },
          "metadata": {},
          "execution_count": 19
        }
      ]
    },
    {
      "cell_type": "code",
      "source": [
        "## Indexing in arrays works same as that of list\n",
        "\n",
        "a_range[0] # printing all the columns of first row"
      ],
      "metadata": {
        "colab": {
          "base_uri": "https://localhost:8080/"
        },
        "id": "BpNpo-eDt9Fr",
        "outputId": "bde3f847-cfdd-4cbd-a036-26dc9d03335f"
      },
      "execution_count": 20,
      "outputs": [
        {
          "output_type": "execute_result",
          "data": {
            "text/plain": [
              "array([10, 11, 12])"
            ]
          },
          "metadata": {},
          "execution_count": 20
        }
      ]
    },
    {
      "cell_type": "code",
      "source": [
        "a_range[:,2] #printing all the rows of second column"
      ],
      "metadata": {
        "colab": {
          "base_uri": "https://localhost:8080/"
        },
        "id": "HbDG7M3QuCDQ",
        "outputId": "085b688a-e1c9-4619-e9fe-b2262c784f5b"
      },
      "execution_count": 21,
      "outputs": [
        {
          "output_type": "execute_result",
          "data": {
            "text/plain": [
              "array([12, 15, 18])"
            ]
          },
          "metadata": {},
          "execution_count": 21
        }
      ]
    },
    {
      "cell_type": "code",
      "source": [
        "iden = np.eye(3) #idnetity matrix of given size\n",
        "iden"
      ],
      "metadata": {
        "colab": {
          "base_uri": "https://localhost:8080/"
        },
        "id": "RQ7UV_-fjJw3",
        "outputId": "ad2ac996-4b44-445c-a69b-26b97eabee1c"
      },
      "execution_count": 22,
      "outputs": [
        {
          "output_type": "execute_result",
          "data": {
            "text/plain": [
              "array([[1., 0., 0.],\n",
              "       [0., 1., 0.],\n",
              "       [0., 0., 1.]])"
            ]
          },
          "metadata": {},
          "execution_count": 22
        }
      ]
    },
    {
      "cell_type": "code",
      "source": [
        "## adding two matrices\n",
        "summed = a_range + iden\n",
        "summed\n"
      ],
      "metadata": {
        "id": "hYJXXvnwjPfE"
      },
      "execution_count": null,
      "outputs": []
    },
    {
      "cell_type": "code",
      "source": [
        "### arrays support normal matrix multiplication that you are used to, point-wise multiplication\n",
        "### and dot product as well.\n",
        "\n",
        "mul = a_range@iden ## normal multiplication\n",
        "mul\n"
      ],
      "metadata": {
        "colab": {
          "base_uri": "https://localhost:8080/"
        },
        "id": "VoyeEptRjYRu",
        "outputId": "bcb5d366-fbe8-44b9-e208-7ffebd5e3522"
      },
      "execution_count": 24,
      "outputs": [
        {
          "output_type": "execute_result",
          "data": {
            "text/plain": [
              "array([[10., 11., 12.],\n",
              "       [13., 14., 15.],\n",
              "       [16., 17., 18.]])"
            ]
          },
          "metadata": {},
          "execution_count": 24
        }
      ]
    },
    {
      "cell_type": "code",
      "source": [
        "## point wise multiplication\n",
        "p_mul = a_range * iden\n",
        "p_mul"
      ],
      "metadata": {
        "colab": {
          "base_uri": "https://localhost:8080/"
        },
        "id": "58S3a_YmtAe8",
        "outputId": "ea355b61-8ab7-438d-8d96-87931d7034d1"
      },
      "execution_count": 25,
      "outputs": [
        {
          "output_type": "execute_result",
          "data": {
            "text/plain": [
              "array([[10.,  0.,  0.],\n",
              "       [ 0., 14.,  0.],\n",
              "       [ 0.,  0., 18.]])"
            ]
          },
          "metadata": {},
          "execution_count": 25
        }
      ]
    },
    {
      "cell_type": "code",
      "source": [
        "## Transpose of a matrix.\n",
        "\n",
        "mtx_t = mul.T\n",
        "mtx_t\n"
      ],
      "metadata": {
        "id": "HC5uJ03ftJHA"
      },
      "execution_count": null,
      "outputs": []
    },
    {
      "cell_type": "code",
      "source": [
        "### Here we are changing the values of last row of the transposed matrix.\n",
        "### basically point wise multiplying the values of last row with 1,2 and 3\n",
        "\n",
        "mtx_t[2] = mtx_t[2]*[1,2,3] ## indexing, point wise multiplication and mutation of values\n",
        "mtx_t"
      ],
      "metadata": {
        "colab": {
          "base_uri": "https://localhost:8080/"
        },
        "id": "ROFhfs2lutat",
        "outputId": "f37f7d20-43d7-4a1e-c857-c914813fd8e1"
      },
      "execution_count": 27,
      "outputs": [
        {
          "output_type": "execute_result",
          "data": {
            "text/plain": [
              "array([[10., 13., 16.],\n",
              "       [11., 14., 17.],\n",
              "       [12., 30., 54.]])"
            ]
          },
          "metadata": {},
          "execution_count": 27
        }
      ]
    },
    {
      "cell_type": "code",
      "source": [
        "## Just like the greater than 1 (a>1) example we saw earlier.\n",
        "## here we are checking if the elements are divisible by 2 (%), and if they are, then replace by 0.\n",
        "\n",
        "mtx_t[(mtx_t % 2 == 0)] = 0 ## convert even elements of the matrix to zero.\n",
        "mtx_t"
      ],
      "metadata": {
        "colab": {
          "base_uri": "https://localhost:8080/"
        },
        "id": "Mh80ju2xvAqL",
        "outputId": "72ed0f80-c307-4ebf-9584-2f6b71a33b3e"
      },
      "execution_count": 28,
      "outputs": [
        {
          "output_type": "execute_result",
          "data": {
            "text/plain": [
              "array([[ 0., 13.,  0.],\n",
              "       [11.,  0., 17.],\n",
              "       [ 0.,  0.,  0.]])"
            ]
          },
          "metadata": {},
          "execution_count": 28
        }
      ]
    },
    {
      "cell_type": "markdown",
      "source": [
        "#### Question 3 :\n",
        "\n",
        "##### a)Create a 5x5 matrix of the following form,\n",
        "\n",
        "##### [[1,1]\n",
        "#####  [2,2]]\n",
        "\n",
        "#####  i.e. each row is increasing and has repetive elements.\n",
        "\n",
        "######  Hint : you can use hstack, vstack  etc.\n",
        "\n",
        "##### b) find dot product of the matrix with any matrix. (Figure out the size/ shape of the matrix)"
      ],
      "metadata": {
        "id": "uqWUH6Rv4OhT"
      }
    },
    {
      "cell_type": "code",
      "source": [
        "import numpy as np\n",
        "\n",
        "matrix = np.array([[1, 1], [2, 2]])\n",
        "\n",
        "final_matrix = np.tile(matrix, (5 // matrix.shape[0], 5 // matrix.shape[1]))\n",
        "\n",
        "print(final_matrix)"
      ],
      "metadata": {
        "id": "NortHEl01b2A",
        "outputId": "581e22a0-f0dc-4434-8272-86b1cabfc566",
        "colab": {
          "base_uri": "https://localhost:8080/"
        }
      },
      "execution_count": 29,
      "outputs": [
        {
          "output_type": "stream",
          "name": "stdout",
          "text": [
            "[[1 1 1 1]\n",
            " [2 2 2 2]\n",
            " [1 1 1 1]\n",
            " [2 2 2 2]]\n"
          ]
        }
      ]
    },
    {
      "cell_type": "markdown",
      "source": [
        "#### Reading Files"
      ],
      "metadata": {
        "id": "GzNoCosKdVa2"
      }
    },
    {
      "cell_type": "code",
      "source": [
        "## loading from the google drive\n",
        "from google.colab import drive\n",
        "drive.mount('/content/gdrive')"
      ],
      "metadata": {
        "colab": {
          "base_uri": "https://localhost:8080/"
        },
        "id": "_wCHdrtQwDJe",
        "outputId": "253622d2-71d8-4eba-e19c-f4219e5276e7"
      },
      "execution_count": 30,
      "outputs": [
        {
          "output_type": "stream",
          "name": "stdout",
          "text": [
            "Mounted at /content/gdrive\n"
          ]
        }
      ]
    },
    {
      "cell_type": "code",
      "source": [
        "with open ('/content/sample_data/README.md', 'r') as f:\n",
        "  a = f.readlines()\n",
        "\n",
        "a ## here a is list of elements/strings each splitted at \\n, \\n is also part of the list element.\n"
      ],
      "metadata": {
        "colab": {
          "base_uri": "https://localhost:8080/"
        },
        "id": "c1rzXSJobLku",
        "outputId": "653023b5-4b57-4955-f53a-a60e32f70541"
      },
      "execution_count": 31,
      "outputs": [
        {
          "output_type": "execute_result",
          "data": {
            "text/plain": [
              "['This directory includes a few sample datasets to get you started.\\n',\n",
              " '\\n',\n",
              " '*   `california_housing_data*.csv` is California housing data from the 1990 US\\n',\n",
              " '    Census; more information is available at:\\n',\n",
              " '    https://developers.google.com/machine-learning/crash-course/california-housing-data-description\\n',\n",
              " '\\n',\n",
              " '*   `mnist_*.csv` is a small sample of the\\n',\n",
              " '    [MNIST database](https://en.wikipedia.org/wiki/MNIST_database), which is\\n',\n",
              " '    described at: http://yann.lecun.com/exdb/mnist/\\n',\n",
              " '\\n',\n",
              " '*   `anscombe.json` contains a copy of\\n',\n",
              " \"    [Anscombe's quartet](https://en.wikipedia.org/wiki/Anscombe%27s_quartet); it\\n\",\n",
              " '    was originally described in\\n',\n",
              " '\\n',\n",
              " \"    Anscombe, F. J. (1973). 'Graphs in Statistical Analysis'. American\\n\",\n",
              " '    Statistician. 27 (1): 17-21. JSTOR 2682899.\\n',\n",
              " '\\n',\n",
              " '    and our copy was prepared by the\\n',\n",
              " '    [vega_datasets library](https://github.com/altair-viz/vega_datasets/blob/4f67bdaad10f45e3549984e17e1b3088c731503d/vega_datasets/_data/anscombe.json).\\n']"
            ]
          },
          "metadata": {},
          "execution_count": 31
        }
      ]
    },
    {
      "cell_type": "code",
      "source": [
        "import pandas as pd\n",
        "\n",
        "df = pd.read_csv('/content/sample_data/california_housing_test.csv','r')\n",
        "df.head(10) ## pass as argument number of top elements you wish to print. Head is used to have a quick glance and understand the data."
      ],
      "metadata": {
        "colab": {
          "base_uri": "https://localhost:8080/",
          "height": 400
        },
        "id": "CgXsQFpobVGk",
        "outputId": "303b259d-7e78-4544-d0c7-b4403e06bdb8"
      },
      "execution_count": 33,
      "outputs": [
        {
          "output_type": "stream",
          "name": "stderr",
          "text": [
            "<ipython-input-33-ad5bb400a483>:3: FutureWarning: In a future version of pandas all arguments of read_csv except for the argument 'filepath_or_buffer' will be keyword-only.\n",
            "  df = pd.read_csv('/content/sample_data/california_housing_test.csv','r')\n"
          ]
        },
        {
          "output_type": "execute_result",
          "data": {
            "text/plain": [
              "   longitude,\"latitude\",\"housing_median_age\",\"total_  ooms\",\"total_bed  \\\n",
              "0  -122.050000,37.370000,27.000000,3885.000000,66...               NaN   \n",
              "1  -118.300000,34.260000,43.000000,1510.000000,31...               NaN   \n",
              "2  -117.810000,33.780000,27.000000,3589.000000,50...               NaN   \n",
              "3  -118.360000,33.820000,28.000000,67.000000,15.0...               NaN   \n",
              "4  -119.670000,36.330000,19.000000,1241.000000,24...               NaN   \n",
              "5  -119.560000,36.510000,37.000000,1018.000000,21...               NaN   \n",
              "6  -121.430000,38.630000,43.000000,1009.000000,22...               NaN   \n",
              "7  -120.650000,35.480000,19.000000,2310.000000,47...               NaN   \n",
              "8  -122.840000,38.400000,15.000000,3080.000000,61...               NaN   \n",
              "9  -118.020000,34.080000,31.000000,2402.000000,63...               NaN   \n",
              "\n",
              "   ooms\",\"population\",\"households\",\"median_income\",\"median_house_value\"  \n",
              "0                                                NaN                     \n",
              "1                                                NaN                     \n",
              "2                                                NaN                     \n",
              "3                                                NaN                     \n",
              "4                                                NaN                     \n",
              "5                                                NaN                     \n",
              "6                                                NaN                     \n",
              "7                                                NaN                     \n",
              "8                                                NaN                     \n",
              "9                                                NaN                     "
            ],
            "text/html": [
              "\n",
              "  <div id=\"df-1a7e0edf-3c7a-4455-9b4c-1079ed74ac83\" class=\"colab-df-container\">\n",
              "    <div>\n",
              "<style scoped>\n",
              "    .dataframe tbody tr th:only-of-type {\n",
              "        vertical-align: middle;\n",
              "    }\n",
              "\n",
              "    .dataframe tbody tr th {\n",
              "        vertical-align: top;\n",
              "    }\n",
              "\n",
              "    .dataframe thead th {\n",
              "        text-align: right;\n",
              "    }\n",
              "</style>\n",
              "<table border=\"1\" class=\"dataframe\">\n",
              "  <thead>\n",
              "    <tr style=\"text-align: right;\">\n",
              "      <th></th>\n",
              "      <th>longitude,\"latitude\",\"housing_median_age\",\"total_</th>\n",
              "      <th>ooms\",\"total_bed</th>\n",
              "      <th>ooms\",\"population\",\"households\",\"median_income\",\"median_house_value\"</th>\n",
              "    </tr>\n",
              "  </thead>\n",
              "  <tbody>\n",
              "    <tr>\n",
              "      <th>0</th>\n",
              "      <td>-122.050000,37.370000,27.000000,3885.000000,66...</td>\n",
              "      <td>NaN</td>\n",
              "      <td>NaN</td>\n",
              "    </tr>\n",
              "    <tr>\n",
              "      <th>1</th>\n",
              "      <td>-118.300000,34.260000,43.000000,1510.000000,31...</td>\n",
              "      <td>NaN</td>\n",
              "      <td>NaN</td>\n",
              "    </tr>\n",
              "    <tr>\n",
              "      <th>2</th>\n",
              "      <td>-117.810000,33.780000,27.000000,3589.000000,50...</td>\n",
              "      <td>NaN</td>\n",
              "      <td>NaN</td>\n",
              "    </tr>\n",
              "    <tr>\n",
              "      <th>3</th>\n",
              "      <td>-118.360000,33.820000,28.000000,67.000000,15.0...</td>\n",
              "      <td>NaN</td>\n",
              "      <td>NaN</td>\n",
              "    </tr>\n",
              "    <tr>\n",
              "      <th>4</th>\n",
              "      <td>-119.670000,36.330000,19.000000,1241.000000,24...</td>\n",
              "      <td>NaN</td>\n",
              "      <td>NaN</td>\n",
              "    </tr>\n",
              "    <tr>\n",
              "      <th>5</th>\n",
              "      <td>-119.560000,36.510000,37.000000,1018.000000,21...</td>\n",
              "      <td>NaN</td>\n",
              "      <td>NaN</td>\n",
              "    </tr>\n",
              "    <tr>\n",
              "      <th>6</th>\n",
              "      <td>-121.430000,38.630000,43.000000,1009.000000,22...</td>\n",
              "      <td>NaN</td>\n",
              "      <td>NaN</td>\n",
              "    </tr>\n",
              "    <tr>\n",
              "      <th>7</th>\n",
              "      <td>-120.650000,35.480000,19.000000,2310.000000,47...</td>\n",
              "      <td>NaN</td>\n",
              "      <td>NaN</td>\n",
              "    </tr>\n",
              "    <tr>\n",
              "      <th>8</th>\n",
              "      <td>-122.840000,38.400000,15.000000,3080.000000,61...</td>\n",
              "      <td>NaN</td>\n",
              "      <td>NaN</td>\n",
              "    </tr>\n",
              "    <tr>\n",
              "      <th>9</th>\n",
              "      <td>-118.020000,34.080000,31.000000,2402.000000,63...</td>\n",
              "      <td>NaN</td>\n",
              "      <td>NaN</td>\n",
              "    </tr>\n",
              "  </tbody>\n",
              "</table>\n",
              "</div>\n",
              "    <div class=\"colab-df-buttons\">\n",
              "\n",
              "  <div class=\"colab-df-container\">\n",
              "    <button class=\"colab-df-convert\" onclick=\"convertToInteractive('df-1a7e0edf-3c7a-4455-9b4c-1079ed74ac83')\"\n",
              "            title=\"Convert this dataframe to an interactive table.\"\n",
              "            style=\"display:none;\">\n",
              "\n",
              "  <svg xmlns=\"http://www.w3.org/2000/svg\" height=\"24px\" viewBox=\"0 -960 960 960\">\n",
              "    <path d=\"M120-120v-720h720v720H120Zm60-500h600v-160H180v160Zm220 220h160v-160H400v160Zm0 220h160v-160H400v160ZM180-400h160v-160H180v160Zm440 0h160v-160H620v160ZM180-180h160v-160H180v160Zm440 0h160v-160H620v160Z\"/>\n",
              "  </svg>\n",
              "    </button>\n",
              "\n",
              "  <style>\n",
              "    .colab-df-container {\n",
              "      display:flex;\n",
              "      gap: 12px;\n",
              "    }\n",
              "\n",
              "    .colab-df-convert {\n",
              "      background-color: #E8F0FE;\n",
              "      border: none;\n",
              "      border-radius: 50%;\n",
              "      cursor: pointer;\n",
              "      display: none;\n",
              "      fill: #1967D2;\n",
              "      height: 32px;\n",
              "      padding: 0 0 0 0;\n",
              "      width: 32px;\n",
              "    }\n",
              "\n",
              "    .colab-df-convert:hover {\n",
              "      background-color: #E2EBFA;\n",
              "      box-shadow: 0px 1px 2px rgba(60, 64, 67, 0.3), 0px 1px 3px 1px rgba(60, 64, 67, 0.15);\n",
              "      fill: #174EA6;\n",
              "    }\n",
              "\n",
              "    .colab-df-buttons div {\n",
              "      margin-bottom: 4px;\n",
              "    }\n",
              "\n",
              "    [theme=dark] .colab-df-convert {\n",
              "      background-color: #3B4455;\n",
              "      fill: #D2E3FC;\n",
              "    }\n",
              "\n",
              "    [theme=dark] .colab-df-convert:hover {\n",
              "      background-color: #434B5C;\n",
              "      box-shadow: 0px 1px 3px 1px rgba(0, 0, 0, 0.15);\n",
              "      filter: drop-shadow(0px 1px 2px rgba(0, 0, 0, 0.3));\n",
              "      fill: #FFFFFF;\n",
              "    }\n",
              "  </style>\n",
              "\n",
              "    <script>\n",
              "      const buttonEl =\n",
              "        document.querySelector('#df-1a7e0edf-3c7a-4455-9b4c-1079ed74ac83 button.colab-df-convert');\n",
              "      buttonEl.style.display =\n",
              "        google.colab.kernel.accessAllowed ? 'block' : 'none';\n",
              "\n",
              "      async function convertToInteractive(key) {\n",
              "        const element = document.querySelector('#df-1a7e0edf-3c7a-4455-9b4c-1079ed74ac83');\n",
              "        const dataTable =\n",
              "          await google.colab.kernel.invokeFunction('convertToInteractive',\n",
              "                                                    [key], {});\n",
              "        if (!dataTable) return;\n",
              "\n",
              "        const docLinkHtml = 'Like what you see? Visit the ' +\n",
              "          '<a target=\"_blank\" href=https://colab.research.google.com/notebooks/data_table.ipynb>data table notebook</a>'\n",
              "          + ' to learn more about interactive tables.';\n",
              "        element.innerHTML = '';\n",
              "        dataTable['output_type'] = 'display_data';\n",
              "        await google.colab.output.renderOutput(dataTable, element);\n",
              "        const docLink = document.createElement('div');\n",
              "        docLink.innerHTML = docLinkHtml;\n",
              "        element.appendChild(docLink);\n",
              "      }\n",
              "    </script>\n",
              "  </div>\n",
              "\n",
              "\n",
              "<div id=\"df-5c4bf50e-655e-4acb-a776-d5a77c34742a\">\n",
              "  <button class=\"colab-df-quickchart\" onclick=\"quickchart('df-5c4bf50e-655e-4acb-a776-d5a77c34742a')\"\n",
              "            title=\"Suggest charts.\"\n",
              "            style=\"display:none;\">\n",
              "\n",
              "<svg xmlns=\"http://www.w3.org/2000/svg\" height=\"24px\"viewBox=\"0 0 24 24\"\n",
              "     width=\"24px\">\n",
              "    <g>\n",
              "        <path d=\"M19 3H5c-1.1 0-2 .9-2 2v14c0 1.1.9 2 2 2h14c1.1 0 2-.9 2-2V5c0-1.1-.9-2-2-2zM9 17H7v-7h2v7zm4 0h-2V7h2v10zm4 0h-2v-4h2v4z\"/>\n",
              "    </g>\n",
              "</svg>\n",
              "  </button>\n",
              "\n",
              "<style>\n",
              "  .colab-df-quickchart {\n",
              "      --bg-color: #E8F0FE;\n",
              "      --fill-color: #1967D2;\n",
              "      --hover-bg-color: #E2EBFA;\n",
              "      --hover-fill-color: #174EA6;\n",
              "      --disabled-fill-color: #AAA;\n",
              "      --disabled-bg-color: #DDD;\n",
              "  }\n",
              "\n",
              "  [theme=dark] .colab-df-quickchart {\n",
              "      --bg-color: #3B4455;\n",
              "      --fill-color: #D2E3FC;\n",
              "      --hover-bg-color: #434B5C;\n",
              "      --hover-fill-color: #FFFFFF;\n",
              "      --disabled-bg-color: #3B4455;\n",
              "      --disabled-fill-color: #666;\n",
              "  }\n",
              "\n",
              "  .colab-df-quickchart {\n",
              "    background-color: var(--bg-color);\n",
              "    border: none;\n",
              "    border-radius: 50%;\n",
              "    cursor: pointer;\n",
              "    display: none;\n",
              "    fill: var(--fill-color);\n",
              "    height: 32px;\n",
              "    padding: 0;\n",
              "    width: 32px;\n",
              "  }\n",
              "\n",
              "  .colab-df-quickchart:hover {\n",
              "    background-color: var(--hover-bg-color);\n",
              "    box-shadow: 0 1px 2px rgba(60, 64, 67, 0.3), 0 1px 3px 1px rgba(60, 64, 67, 0.15);\n",
              "    fill: var(--button-hover-fill-color);\n",
              "  }\n",
              "\n",
              "  .colab-df-quickchart-complete:disabled,\n",
              "  .colab-df-quickchart-complete:disabled:hover {\n",
              "    background-color: var(--disabled-bg-color);\n",
              "    fill: var(--disabled-fill-color);\n",
              "    box-shadow: none;\n",
              "  }\n",
              "\n",
              "  .colab-df-spinner {\n",
              "    border: 2px solid var(--fill-color);\n",
              "    border-color: transparent;\n",
              "    border-bottom-color: var(--fill-color);\n",
              "    animation:\n",
              "      spin 1s steps(1) infinite;\n",
              "  }\n",
              "\n",
              "  @keyframes spin {\n",
              "    0% {\n",
              "      border-color: transparent;\n",
              "      border-bottom-color: var(--fill-color);\n",
              "      border-left-color: var(--fill-color);\n",
              "    }\n",
              "    20% {\n",
              "      border-color: transparent;\n",
              "      border-left-color: var(--fill-color);\n",
              "      border-top-color: var(--fill-color);\n",
              "    }\n",
              "    30% {\n",
              "      border-color: transparent;\n",
              "      border-left-color: var(--fill-color);\n",
              "      border-top-color: var(--fill-color);\n",
              "      border-right-color: var(--fill-color);\n",
              "    }\n",
              "    40% {\n",
              "      border-color: transparent;\n",
              "      border-right-color: var(--fill-color);\n",
              "      border-top-color: var(--fill-color);\n",
              "    }\n",
              "    60% {\n",
              "      border-color: transparent;\n",
              "      border-right-color: var(--fill-color);\n",
              "    }\n",
              "    80% {\n",
              "      border-color: transparent;\n",
              "      border-right-color: var(--fill-color);\n",
              "      border-bottom-color: var(--fill-color);\n",
              "    }\n",
              "    90% {\n",
              "      border-color: transparent;\n",
              "      border-bottom-color: var(--fill-color);\n",
              "    }\n",
              "  }\n",
              "</style>\n",
              "\n",
              "  <script>\n",
              "    async function quickchart(key) {\n",
              "      const quickchartButtonEl =\n",
              "        document.querySelector('#' + key + ' button');\n",
              "      quickchartButtonEl.disabled = true;  // To prevent multiple clicks.\n",
              "      quickchartButtonEl.classList.add('colab-df-spinner');\n",
              "      try {\n",
              "        const charts = await google.colab.kernel.invokeFunction(\n",
              "            'suggestCharts', [key], {});\n",
              "      } catch (error) {\n",
              "        console.error('Error during call to suggestCharts:', error);\n",
              "      }\n",
              "      quickchartButtonEl.classList.remove('colab-df-spinner');\n",
              "      quickchartButtonEl.classList.add('colab-df-quickchart-complete');\n",
              "    }\n",
              "    (() => {\n",
              "      let quickchartButtonEl =\n",
              "        document.querySelector('#df-5c4bf50e-655e-4acb-a776-d5a77c34742a button');\n",
              "      quickchartButtonEl.style.display =\n",
              "        google.colab.kernel.accessAllowed ? 'block' : 'none';\n",
              "    })();\n",
              "  </script>\n",
              "</div>\n",
              "    </div>\n",
              "  </div>\n"
            ]
          },
          "metadata": {},
          "execution_count": 33
        }
      ]
    },
    {
      "cell_type": "code",
      "source": [
        "len(df.columns), df.columns"
      ],
      "metadata": {
        "colab": {
          "base_uri": "https://localhost:8080/"
        },
        "id": "iMMaPe3gduKb",
        "outputId": "f5fd2230-b0d1-498a-c0b9-103a0f79e8a1"
      },
      "execution_count": 34,
      "outputs": [
        {
          "output_type": "execute_result",
          "data": {
            "text/plain": [
              "(3,\n",
              " Index(['longitude,\"latitude\",\"housing_median_age\",\"total_', 'ooms\",\"total_bed',\n",
              "        'ooms\",\"population\",\"households\",\"median_income\",\"median_house_value\"'],\n",
              "       dtype='object'))"
            ]
          },
          "metadata": {},
          "execution_count": 34
        }
      ]
    },
    {
      "cell_type": "code",
      "source": [
        "df.columns[0]"
      ],
      "metadata": {
        "colab": {
          "base_uri": "https://localhost:8080/",
          "height": 36
        },
        "id": "GT1dA9Q3eRQU",
        "outputId": "9ae89da1-a500-4ced-eeef-dc93a0b12c69"
      },
      "execution_count": 35,
      "outputs": [
        {
          "output_type": "execute_result",
          "data": {
            "text/plain": [
              "'longitude,\"latitude\",\"housing_median_age\",\"total_'"
            ],
            "application/vnd.google.colaboratory.intrinsic+json": {
              "type": "string"
            }
          },
          "metadata": {},
          "execution_count": 35
        }
      ]
    },
    {
      "cell_type": "code",
      "source": [
        "df['longitude,\"latitude\",\"housing_median_age\",\"total_'][:5]"
      ],
      "metadata": {
        "colab": {
          "base_uri": "https://localhost:8080/"
        },
        "id": "oEZhq9rBe-Hb",
        "outputId": "7975411c-b265-44f3-f274-24da98c3ab8e"
      },
      "execution_count": 36,
      "outputs": [
        {
          "output_type": "execute_result",
          "data": {
            "text/plain": [
              "0    -122.050000,37.370000,27.000000,3885.000000,66...\n",
              "1    -118.300000,34.260000,43.000000,1510.000000,31...\n",
              "2    -117.810000,33.780000,27.000000,3589.000000,50...\n",
              "3    -118.360000,33.820000,28.000000,67.000000,15.0...\n",
              "4    -119.670000,36.330000,19.000000,1241.000000,24...\n",
              "Name: longitude,\"latitude\",\"housing_median_age\",\"total_, dtype: object"
            ]
          },
          "metadata": {},
          "execution_count": 36
        }
      ]
    },
    {
      "cell_type": "code",
      "source": [
        "df = df.rename(columns = {'longitude,\"latitude\",\"housing_median_age\",\"total_':'Detail1'}) ##rename column names as at times it makes it easier for us"
      ],
      "metadata": {
        "id": "-hpbslfWfwy3"
      },
      "execution_count": 37,
      "outputs": []
    },
    {
      "cell_type": "code",
      "source": [
        "df.head(3)"
      ],
      "metadata": {
        "id": "C0gpXPf1hN5Q"
      },
      "execution_count": null,
      "outputs": []
    },
    {
      "cell_type": "code",
      "source": [
        "df.iloc[:5, 0]  ##iloc - index - 0 to 4 rows and first column only."
      ],
      "metadata": {
        "colab": {
          "base_uri": "https://localhost:8080/"
        },
        "id": "A0FFUn-ghP1n",
        "outputId": "855ebd98-35f2-4458-c33c-1f66ea56d89e"
      },
      "execution_count": 40,
      "outputs": [
        {
          "output_type": "execute_result",
          "data": {
            "text/plain": [
              "0    -122.050000,37.370000,27.000000,3885.000000,66...\n",
              "1    -118.300000,34.260000,43.000000,1510.000000,31...\n",
              "2    -117.810000,33.780000,27.000000,3589.000000,50...\n",
              "3    -118.360000,33.820000,28.000000,67.000000,15.0...\n",
              "4    -119.670000,36.330000,19.000000,1241.000000,24...\n",
              "Name: Detail1, dtype: object"
            ]
          },
          "metadata": {},
          "execution_count": 40
        }
      ]
    },
    {
      "cell_type": "code",
      "source": [
        "import matplotlib\n",
        "from matplotlib import pyplot as plt"
      ],
      "metadata": {
        "id": "oJ7JrZqWioIO"
      },
      "execution_count": 39,
      "outputs": []
    },
    {
      "cell_type": "code",
      "source": [
        "xpoints = np.array([1, 8])\n",
        "ypoints = np.array([3, 10])\n",
        "\n",
        "plt.plot(xpoints, ypoints)\n",
        "plt.show()"
      ],
      "metadata": {
        "colab": {
          "base_uri": "https://localhost:8080/",
          "height": 430
        },
        "id": "tzunFbpUxKAP",
        "outputId": "7bc8682f-6328-46a2-a794-1b7df3aab3a9"
      },
      "execution_count": 41,
      "outputs": [
        {
          "output_type": "display_data",
          "data": {
            "text/plain": [
              "<Figure size 640x480 with 1 Axes>"
            ],
            "image/png": "[encoded data removed]"
          },
          "metadata": {}
        }
      ]
    },
    {
      "cell_type": "code",
      "source": [
        "xpoints = np.array([1, 2, 6, 8])\n",
        "ypoints = np.array([3, 8, 1, 10])\n",
        "\n",
        "plt.plot(xpoints, ypoints)\n",
        "plt.show()"
      ],
      "metadata": {
        "colab": {
          "base_uri": "https://localhost:8080/",
          "height": 430
        },
        "id": "p7l83i5SxW4k",
        "outputId": "192eee4d-86bc-4b08-dab1-c0f444b36540"
      },
      "execution_count": 42,
      "outputs": [
        {
          "output_type": "display_data",
          "data": {
            "text/plain": [
              "<Figure size 640x480 with 1 Axes>"
            ],
            "image/png": "[encoded data removed]"
          },
          "metadata": {}
        }
      ]
    },
    {
      "cell_type": "markdown",
      "source": [
        "## Creating a dataframe.\n",
        "#### Task: Study about other methods of creating dataframe (for example: using Pandas Series, Lists etc.)"
      ],
      "metadata": {
        "id": "GT6yXu7l1gtL"
      }
    },
    {
      "cell_type": "code",
      "source": [
        "import pandas as pd\n",
        "import numpy as np"
      ],
      "metadata": {
        "id": "1vR1hTJ51ckl"
      },
      "execution_count": 44,
      "outputs": []
    },
    {
      "cell_type": "code",
      "source": [
        "values = np.arange(16).reshape(4,4)\n",
        "values"
      ],
      "metadata": {
        "colab": {
          "base_uri": "https://localhost:8080/"
        },
        "id": "o0W0z3Fr1gOb",
        "outputId": "21bcc9cc-937f-4772-c741-e9d21929b0af"
      },
      "execution_count": 43,
      "outputs": [
        {
          "output_type": "execute_result",
          "data": {
            "text/plain": [
              "array([[ 0,  1,  2,  3],\n",
              "       [ 4,  5,  6,  7],\n",
              "       [ 8,  9, 10, 11],\n",
              "       [12, 13, 14, 15]])"
            ]
          },
          "metadata": {},
          "execution_count": 43
        }
      ]
    },
    {
      "cell_type": "code",
      "source": [
        "dataframe_from_array = pd.DataFrame(values, index = ['a','b','c','d'], columns=['w','x','y','z'] )\n",
        "dataframe_from_array"
      ],
      "metadata": {
        "colab": {
          "base_uri": "https://localhost:8080/",
          "height": 175
        },
        "id": "_p5vKhPN2Bey",
        "outputId": "80f3d48f-1c66-448e-c05e-565c8703d690"
      },
      "execution_count": 45,
      "outputs": [
        {
          "output_type": "execute_result",
          "data": {
            "text/plain": [
              "    w   x   y   z\n",
              "a   0   1   2   3\n",
              "b   4   5   6   7\n",
              "c   8   9  10  11\n",
              "d  12  13  14  15"
            ],
            "text/html": [
              "\n",
              "  <div id=\"df-871d26f5-a6e2-4eae-a049-55332fb768ec\" class=\"colab-df-container\">\n",
              "    <div>\n",
              "<style scoped>\n",
              "    .dataframe tbody tr th:only-of-type {\n",
              "        vertical-align: middle;\n",
              "    }\n",
              "\n",
              "    .dataframe tbody tr th {\n",
              "        vertical-align: top;\n",
              "    }\n",
              "\n",
              "    .dataframe thead th {\n",
              "        text-align: right;\n",
              "    }\n",
              "</style>\n",
              "<table border=\"1\" class=\"dataframe\">\n",
              "  <thead>\n",
              "    <tr style=\"text-align: right;\">\n",
              "      <th></th>\n",
              "      <th>w</th>\n",
              "      <th>x</th>\n",
              "      <th>y</th>\n",
              "      <th>z</th>\n",
              "    </tr>\n",
              "  </thead>\n",
              "  <tbody>\n",
              "    <tr>\n",
              "      <th>a</th>\n",
              "      <td>0</td>\n",
              "      <td>1</td>\n",
              "      <td>2</td>\n",
              "      <td>3</td>\n",
              "    </tr>\n",
              "    <tr>\n",
              "      <th>b</th>\n",
              "      <td>4</td>\n",
              "      <td>5</td>\n",
              "      <td>6</td>\n",
              "      <td>7</td>\n",
              "    </tr>\n",
              "    <tr>\n",
              "      <th>c</th>\n",
              "      <td>8</td>\n",
              "      <td>9</td>\n",
              "      <td>10</td>\n",
              "      <td>11</td>\n",
              "    </tr>\n",
              "    <tr>\n",
              "      <th>d</th>\n",
              "      <td>12</td>\n",
              "      <td>13</td>\n",
              "      <td>14</td>\n",
              "      <td>15</td>\n",
              "    </tr>\n",
              "  </tbody>\n",
              "</table>\n",
              "</div>\n",
              "    <div class=\"colab-df-buttons\">\n",
              "\n",
              "  <div class=\"colab-df-container\">\n",
              "    <button class=\"colab-df-convert\" onclick=\"convertToInteractive('df-871d26f5-a6e2-4eae-a049-55332fb768ec')\"\n",
              "            title=\"Convert this dataframe to an interactive table.\"\n",
              "            style=\"display:none;\">\n",
              "\n",
              "  <svg xmlns=\"http://www.w3.org/2000/svg\" height=\"24px\" viewBox=\"0 -960 960 960\">\n",
              "    <path d=\"M120-120v-720h720v720H120Zm60-500h600v-160H180v160Zm220 220h160v-160H400v160Zm0 220h160v-160H400v160ZM180-400h160v-160H180v160Zm440 0h160v-160H620v160ZM180-180h160v-160H180v160Zm440 0h160v-160H620v160Z\"/>\n",
              "  </svg>\n",
              "    </button>\n",
              "\n",
              "  <style>\n",
              "    .colab-df-container {\n",
              "      display:flex;\n",
              "      gap: 12px;\n",
              "    }\n",
              "\n",
              "    .colab-df-convert {\n",
              "      background-color: #E8F0FE;\n",
              "      border: none;\n",
              "      border-radius: 50%;\n",
              "      cursor: pointer;\n",
              "      display: none;\n",
              "      fill: #1967D2;\n",
              "      height: 32px;\n",
              "      padding: 0 0 0 0;\n",
              "      width: 32px;\n",
              "    }\n",
              "\n",
              "    .colab-df-convert:hover {\n",
              "      background-color: #E2EBFA;\n",
              "      box-shadow: 0px 1px 2px rgba(60, 64, 67, 0.3), 0px 1px 3px 1px rgba(60, 64, 67, 0.15);\n",
              "      fill: #174EA6;\n",
              "    }\n",
              "\n",
              "    .colab-df-buttons div {\n",
              "      margin-bottom: 4px;\n",
              "    }\n",
              "\n",
              "    [theme=dark] .colab-df-convert {\n",
              "      background-color: #3B4455;\n",
              "      fill: #D2E3FC;\n",
              "    }\n",
              "\n",
              "    [theme=dark] .colab-df-convert:hover {\n",
              "      background-color: #434B5C;\n",
              "      box-shadow: 0px 1px 3px 1px rgba(0, 0, 0, 0.15);\n",
              "      filter: drop-shadow(0px 1px 2px rgba(0, 0, 0, 0.3));\n",
              "      fill: #FFFFFF;\n",
              "    }\n",
              "  </style>\n",
              "\n",
              "    <script>\n",
              "      const buttonEl =\n",
              "        document.querySelector('#df-871d26f5-a6e2-4eae-a049-55332fb768ec button.colab-df-convert');\n",
              "      buttonEl.style.display =\n",
              "        google.colab.kernel.accessAllowed ? 'block' : 'none';\n",
              "\n",
              "      async function convertToInteractive(key) {\n",
              "        const element = document.querySelector('#df-871d26f5-a6e2-4eae-a049-55332fb768ec');\n",
              "        const dataTable =\n",
              "          await google.colab.kernel.invokeFunction('convertToInteractive',\n",
              "                                                    [key], {});\n",
              "        if (!dataTable) return;\n",
              "\n",
              "        const docLinkHtml = 'Like what you see? Visit the ' +\n",
              "          '<a target=\"_blank\" href=https://colab.research.google.com/notebooks/data_table.ipynb>data table notebook</a>'\n",
              "          + ' to learn more about interactive tables.';\n",
              "        element.innerHTML = '';\n",
              "        dataTable['output_type'] = 'display_data';\n",
              "        await google.colab.output.renderOutput(dataTable, element);\n",
              "        const docLink = document.createElement('div');\n",
              "        docLink.innerHTML = docLinkHtml;\n",
              "        element.appendChild(docLink);\n",
              "      }\n",
              "    </script>\n",
              "  </div>\n",
              "\n",
              "\n",
              "<div id=\"df-398ad8fe-87a9-4835-9ee3-1850bdd8dda5\">\n",
              "  <button class=\"colab-df-quickchart\" onclick=\"quickchart('df-398ad8fe-87a9-4835-9ee3-1850bdd8dda5')\"\n",
              "            title=\"Suggest charts.\"\n",
              "            style=\"display:none;\">\n",
              "\n",
              "<svg xmlns=\"http://www.w3.org/2000/svg\" height=\"24px\"viewBox=\"0 0 24 24\"\n",
              "     width=\"24px\">\n",
              "    <g>\n",
              "        <path d=\"M19 3H5c-1.1 0-2 .9-2 2v14c0 1.1.9 2 2 2h14c1.1 0 2-.9 2-2V5c0-1.1-.9-2-2-2zM9 17H7v-7h2v7zm4 0h-2V7h2v10zm4 0h-2v-4h2v4z\"/>\n",
              "    </g>\n",
              "</svg>\n",
              "  </button>\n",
              "\n",
              "<style>\n",
              "  .colab-df-quickchart {\n",
              "      --bg-color: #E8F0FE;\n",
              "      --fill-color: #1967D2;\n",
              "      --hover-bg-color: #E2EBFA;\n",
              "      --hover-fill-color: #174EA6;\n",
              "      --disabled-fill-color: #AAA;\n",
              "      --disabled-bg-color: #DDD;\n",
              "  }\n",
              "\n",
              "  [theme=dark] .colab-df-quickchart {\n",
              "      --bg-color: #3B4455;\n",
              "      --fill-color: #D2E3FC;\n",
              "      --hover-bg-color: #434B5C;\n",
              "      --hover-fill-color: #FFFFFF;\n",
              "      --disabled-bg-color: #3B4455;\n",
              "      --disabled-fill-color: #666;\n",
              "  }\n",
              "\n",
              "  .colab-df-quickchart {\n",
              "    background-color: var(--bg-color);\n",
              "    border: none;\n",
              "    border-radius: 50%;\n",
              "    cursor: pointer;\n",
              "    display: none;\n",
              "    fill: var(--fill-color);\n",
              "    height: 32px;\n",
              "    padding: 0;\n",
              "    width: 32px;\n",
              "  }\n",
              "\n",
              "  .colab-df-quickchart:hover {\n",
              "    background-color: var(--hover-bg-color);\n",
              "    box-shadow: 0 1px 2px rgba(60, 64, 67, 0.3), 0 1px 3px 1px rgba(60, 64, 67, 0.15);\n",
              "    fill: var(--button-hover-fill-color);\n",
              "  }\n",
              "\n",
              "  .colab-df-quickchart-complete:disabled,\n",
              "  .colab-df-quickchart-complete:disabled:hover {\n",
              "    background-color: var(--disabled-bg-color);\n",
              "    fill: var(--disabled-fill-color);\n",
              "    box-shadow: none;\n",
              "  }\n",
              "\n",
              "  .colab-df-spinner {\n",
              "    border: 2px solid var(--fill-color);\n",
              "    border-color: transparent;\n",
              "    border-bottom-color: var(--fill-color);\n",
              "    animation:\n",
              "      spin 1s steps(1) infinite;\n",
              "  }\n",
              "\n",
              "  @keyframes spin {\n",
              "    0% {\n",
              "      border-color: transparent;\n",
              "      border-bottom-color: var(--fill-color);\n",
              "      border-left-color: var(--fill-color);\n",
              "    }\n",
              "    20% {\n",
              "      border-color: transparent;\n",
              "      border-left-color: var(--fill-color);\n",
              "      border-top-color: var(--fill-color);\n",
              "    }\n",
              "    30% {\n",
              "      border-color: transparent;\n",
              "      border-left-color: var(--fill-color);\n",
              "      border-top-color: var(--fill-color);\n",
              "      border-right-color: var(--fill-color);\n",
              "    }\n",
              "    40% {\n",
              "      border-color: transparent;\n",
              "      border-right-color: var(--fill-color);\n",
              "      border-top-color: var(--fill-color);\n",
              "    }\n",
              "    60% {\n",
              "      border-color: transparent;\n",
              "      border-right-color: var(--fill-color);\n",
              "    }\n",
              "    80% {\n",
              "      border-color: transparent;\n",
              "      border-right-color: var(--fill-color);\n",
              "      border-bottom-color: var(--fill-color);\n",
              "    }\n",
              "    90% {\n",
              "      border-color: transparent;\n",
              "      border-bottom-color: var(--fill-color);\n",
              "    }\n",
              "  }\n",
              "</style>\n",
              "\n",
              "  <script>\n",
              "    async function quickchart(key) {\n",
              "      const quickchartButtonEl =\n",
              "        document.querySelector('#' + key + ' button');\n",
              "      quickchartButtonEl.disabled = true;  // To prevent multiple clicks.\n",
              "      quickchartButtonEl.classList.add('colab-df-spinner');\n",
              "      try {\n",
              "        const charts = await google.colab.kernel.invokeFunction(\n",
              "            'suggestCharts', [key], {});\n",
              "      } catch (error) {\n",
              "        console.error('Error during call to suggestCharts:', error);\n",
              "      }\n",
              "      quickchartButtonEl.classList.remove('colab-df-spinner');\n",
              "      quickchartButtonEl.classList.add('colab-df-quickchart-complete');\n",
              "    }\n",
              "    (() => {\n",
              "      let quickchartButtonEl =\n",
              "        document.querySelector('#df-398ad8fe-87a9-4835-9ee3-1850bdd8dda5 button');\n",
              "      quickchartButtonEl.style.display =\n",
              "        google.colab.kernel.accessAllowed ? 'block' : 'none';\n",
              "    })();\n",
              "  </script>\n",
              "</div>\n",
              "    </div>\n",
              "  </div>\n"
            ]
          },
          "metadata": {},
          "execution_count": 45
        }
      ]
    },
    {
      "cell_type": "code",
      "source": [
        "dataframe_from_array.loc[['a','b'],['w','x']]"
      ],
      "metadata": {
        "colab": {
          "base_uri": "https://localhost:8080/",
          "height": 112
        },
        "id": "jdIORDyX2h-Z",
        "outputId": "e05c9262-c664-4480-c02f-33613759d905"
      },
      "execution_count": 46,
      "outputs": [
        {
          "output_type": "execute_result",
          "data": {
            "text/plain": [
              "   w  x\n",
              "a  0  1\n",
              "b  4  5"
            ],
            "text/html": [
              "\n",
              "  <div id=\"df-1da7b11d-06f5-4325-80a3-7bb0ab947638\" class=\"colab-df-container\">\n",
              "    <div>\n",
              "<style scoped>\n",
              "    .dataframe tbody tr th:only-of-type {\n",
              "        vertical-align: middle;\n",
              "    }\n",
              "\n",
              "    .dataframe tbody tr th {\n",
              "        vertical-align: top;\n",
              "    }\n",
              "\n",
              "    .dataframe thead th {\n",
              "        text-align: right;\n",
              "    }\n",
              "</style>\n",
              "<table border=\"1\" class=\"dataframe\">\n",
              "  <thead>\n",
              "    <tr style=\"text-align: right;\">\n",
              "      <th></th>\n",
              "      <th>w</th>\n",
              "      <th>x</th>\n",
              "    </tr>\n",
              "  </thead>\n",
              "  <tbody>\n",
              "    <tr>\n",
              "      <th>a</th>\n",
              "      <td>0</td>\n",
              "      <td>1</td>\n",
              "    </tr>\n",
              "    <tr>\n",
              "      <th>b</th>\n",
              "      <td>4</td>\n",
              "      <td>5</td>\n",
              "    </tr>\n",
              "  </tbody>\n",
              "</table>\n",
              "</div>\n",
              "    <div class=\"colab-df-buttons\">\n",
              "\n",
              "  <div class=\"colab-df-container\">\n",
              "    <button class=\"colab-df-convert\" onclick=\"convertToInteractive('df-1da7b11d-06f5-4325-80a3-7bb0ab947638')\"\n",
              "            title=\"Convert this dataframe to an interactive table.\"\n",
              "            style=\"display:none;\">\n",
              "\n",
              "  <svg xmlns=\"http://www.w3.org/2000/svg\" height=\"24px\" viewBox=\"0 -960 960 960\">\n",
              "    <path d=\"M120-120v-720h720v720H120Zm60-500h600v-160H180v160Zm220 220h160v-160H400v160Zm0 220h160v-160H400v160ZM180-400h160v-160H180v160Zm440 0h160v-160H620v160ZM180-180h160v-160H180v160Zm440 0h160v-160H620v160Z\"/>\n",
              "  </svg>\n",
              "    </button>\n",
              "\n",
              "  <style>\n",
              "    .colab-df-container {\n",
              "      display:flex;\n",
              "      gap: 12px;\n",
              "    }\n",
              "\n",
              "    .colab-df-convert {\n",
              "      background-color: #E8F0FE;\n",
              "      border: none;\n",
              "      border-radius: 50%;\n",
              "      cursor: pointer;\n",
              "      display: none;\n",
              "      fill: #1967D2;\n",
              "      height: 32px;\n",
              "      padding: 0 0 0 0;\n",
              "      width: 32px;\n",
              "    }\n",
              "\n",
              "    .colab-df-convert:hover {\n",
              "      background-color: #E2EBFA;\n",
              "      box-shadow: 0px 1px 2px rgba(60, 64, 67, 0.3), 0px 1px 3px 1px rgba(60, 64, 67, 0.15);\n",
              "      fill: #174EA6;\n",
              "    }\n",
              "\n",
              "    .colab-df-buttons div {\n",
              "      margin-bottom: 4px;\n",
              "    }\n",
              "\n",
              "    [theme=dark] .colab-df-convert {\n",
              "      background-color: #3B4455;\n",
              "      fill: #D2E3FC;\n",
              "    }\n",
              "\n",
              "    [theme=dark] .colab-df-convert:hover {\n",
              "      background-color: #434B5C;\n",
              "      box-shadow: 0px 1px 3px 1px rgba(0, 0, 0, 0.15);\n",
              "      filter: drop-shadow(0px 1px 2px rgba(0, 0, 0, 0.3));\n",
              "      fill: #FFFFFF;\n",
              "    }\n",
              "  </style>\n",
              "\n",
              "    <script>\n",
              "      const buttonEl =\n",
              "        document.querySelector('#df-1da7b11d-06f5-4325-80a3-7bb0ab947638 button.colab-df-convert');\n",
              "      buttonEl.style.display =\n",
              "        google.colab.kernel.accessAllowed ? 'block' : 'none';\n",
              "\n",
              "      async function convertToInteractive(key) {\n",
              "        const element = document.querySelector('#df-1da7b11d-06f5-4325-80a3-7bb0ab947638');\n",
              "        const dataTable =\n",
              "          await google.colab.kernel.invokeFunction('convertToInteractive',\n",
              "                                                    [key], {});\n",
              "        if (!dataTable) return;\n",
              "\n",
              "        const docLinkHtml = 'Like what you see? Visit the ' +\n",
              "          '<a target=\"_blank\" href=https://colab.research.google.com/notebooks/data_table.ipynb>data table notebook</a>'\n",
              "          + ' to learn more about interactive tables.';\n",
              "        element.innerHTML = '';\n",
              "        dataTable['output_type'] = 'display_data';\n",
              "        await google.colab.output.renderOutput(dataTable, element);\n",
              "        const docLink = document.createElement('div');\n",
              "        docLink.innerHTML = docLinkHtml;\n",
              "        element.appendChild(docLink);\n",
              "      }\n",
              "    </script>\n",
              "  </div>\n",
              "\n",
              "\n",
              "<div id=\"df-55a23ca0-f9e9-45b6-8556-57a83b3c7613\">\n",
              "  <button class=\"colab-df-quickchart\" onclick=\"quickchart('df-55a23ca0-f9e9-45b6-8556-57a83b3c7613')\"\n",
              "            title=\"Suggest charts.\"\n",
              "            style=\"display:none;\">\n",
              "\n",
              "<svg xmlns=\"http://www.w3.org/2000/svg\" height=\"24px\"viewBox=\"0 0 24 24\"\n",
              "     width=\"24px\">\n",
              "    <g>\n",
              "        <path d=\"M19 3H5c-1.1 0-2 .9-2 2v14c0 1.1.9 2 2 2h14c1.1 0 2-.9 2-2V5c0-1.1-.9-2-2-2zM9 17H7v-7h2v7zm4 0h-2V7h2v10zm4 0h-2v-4h2v4z\"/>\n",
              "    </g>\n",
              "</svg>\n",
              "  </button>\n",
              "\n",
              "<style>\n",
              "  .colab-df-quickchart {\n",
              "      --bg-color: #E8F0FE;\n",
              "      --fill-color: #1967D2;\n",
              "      --hover-bg-color: #E2EBFA;\n",
              "      --hover-fill-color: #174EA6;\n",
              "      --disabled-fill-color: #AAA;\n",
              "      --disabled-bg-color: #DDD;\n",
              "  }\n",
              "\n",
              "  [theme=dark] .colab-df-quickchart {\n",
              "      --bg-color: #3B4455;\n",
              "      --fill-color: #D2E3FC;\n",
              "      --hover-bg-color: #434B5C;\n",
              "      --hover-fill-color: #FFFFFF;\n",
              "      --disabled-bg-color: #3B4455;\n",
              "      --disabled-fill-color: #666;\n",
              "  }\n",
              "\n",
              "  .colab-df-quickchart {\n",
              "    background-color: var(--bg-color);\n",
              "    border: none;\n",
              "    border-radius: 50%;\n",
              "    cursor: pointer;\n",
              "    display: none;\n",
              "    fill: var(--fill-color);\n",
              "    height: 32px;\n",
              "    padding: 0;\n",
              "    width: 32px;\n",
              "  }\n",
              "\n",
              "  .colab-df-quickchart:hover {\n",
              "    background-color: var(--hover-bg-color);\n",
              "    box-shadow: 0 1px 2px rgba(60, 64, 67, 0.3), 0 1px 3px 1px rgba(60, 64, 67, 0.15);\n",
              "    fill: var(--button-hover-fill-color);\n",
              "  }\n",
              "\n",
              "  .colab-df-quickchart-complete:disabled,\n",
              "  .colab-df-quickchart-complete:disabled:hover {\n",
              "    background-color: var(--disabled-bg-color);\n",
              "    fill: var(--disabled-fill-color);\n",
              "    box-shadow: none;\n",
              "  }\n",
              "\n",
              "  .colab-df-spinner {\n",
              "    border: 2px solid var(--fill-color);\n",
              "    border-color: transparent;\n",
              "    border-bottom-color: var(--fill-color);\n",
              "    animation:\n",
              "      spin 1s steps(1) infinite;\n",
              "  }\n",
              "\n",
              "  @keyframes spin {\n",
              "    0% {\n",
              "      border-color: transparent;\n",
              "      border-bottom-color: var(--fill-color);\n",
              "      border-left-color: var(--fill-color);\n",
              "    }\n",
              "    20% {\n",
              "      border-color: transparent;\n",
              "      border-left-color: var(--fill-color);\n",
              "      border-top-color: var(--fill-color);\n",
              "    }\n",
              "    30% {\n",
              "      border-color: transparent;\n",
              "      border-left-color: var(--fill-color);\n",
              "      border-top-color: var(--fill-color);\n",
              "      border-right-color: var(--fill-color);\n",
              "    }\n",
              "    40% {\n",
              "      border-color: transparent;\n",
              "      border-right-color: var(--fill-color);\n",
              "      border-top-color: var(--fill-color);\n",
              "    }\n",
              "    60% {\n",
              "      border-color: transparent;\n",
              "      border-right-color: var(--fill-color);\n",
              "    }\n",
              "    80% {\n",
              "      border-color: transparent;\n",
              "      border-right-color: var(--fill-color);\n",
              "      border-bottom-color: var(--fill-color);\n",
              "    }\n",
              "    90% {\n",
              "      border-color: transparent;\n",
              "      border-bottom-color: var(--fill-color);\n",
              "    }\n",
              "  }\n",
              "</style>\n",
              "\n",
              "  <script>\n",
              "    async function quickchart(key) {\n",
              "      const quickchartButtonEl =\n",
              "        document.querySelector('#' + key + ' button');\n",
              "      quickchartButtonEl.disabled = true;  // To prevent multiple clicks.\n",
              "      quickchartButtonEl.classList.add('colab-df-spinner');\n",
              "      try {\n",
              "        const charts = await google.colab.kernel.invokeFunction(\n",
              "            'suggestCharts', [key], {});\n",
              "      } catch (error) {\n",
              "        console.error('Error during call to suggestCharts:', error);\n",
              "      }\n",
              "      quickchartButtonEl.classList.remove('colab-df-spinner');\n",
              "      quickchartButtonEl.classList.add('colab-df-quickchart-complete');\n",
              "    }\n",
              "    (() => {\n",
              "      let quickchartButtonEl =\n",
              "        document.querySelector('#df-55a23ca0-f9e9-45b6-8556-57a83b3c7613 button');\n",
              "      quickchartButtonEl.style.display =\n",
              "        google.colab.kernel.accessAllowed ? 'block' : 'none';\n",
              "    })();\n",
              "  </script>\n",
              "</div>\n",
              "    </div>\n",
              "  </div>\n"
            ]
          },
          "metadata": {},
          "execution_count": 46
        }
      ]
    },
    {
      "cell_type": "code",
      "source": [
        "dataframe_from_array.iloc()## it needs position as integer"
      ],
      "metadata": {
        "colab": {
          "base_uri": "https://localhost:8080/"
        },
        "id": "iPTlROGv2r7M",
        "outputId": "bf44d91c-700f-4ee8-dd6a-c50360b7c5f0"
      },
      "execution_count": 50,
      "outputs": [
        {
          "output_type": "execute_result",
          "data": {
            "text/plain": [
              "<pandas.core.indexing._iLocIndexer at 0x7c99bd160810>"
            ]
          },
          "metadata": {},
          "execution_count": 50
        }
      ]
    },
    {
      "cell_type": "code",
      "source": [
        "dataframe_from_array.iloc[1,3] #second row and last column"
      ],
      "metadata": {
        "colab": {
          "base_uri": "https://localhost:8080/"
        },
        "id": "PI4cRSO526jo",
        "outputId": "9bc18bf9-eff4-4cef-df15-482bc2c76d1c"
      },
      "execution_count": 51,
      "outputs": [
        {
          "output_type": "execute_result",
          "data": {
            "text/plain": [
              "7"
            ]
          },
          "metadata": {},
          "execution_count": 51
        }
      ]
    },
    {
      "cell_type": "code",
      "source": [
        "dataframe_from_array.iloc[::2,::2]"
      ],
      "metadata": {
        "colab": {
          "base_uri": "https://localhost:8080/",
          "height": 112
        },
        "id": "-BpY8Prl3GQX",
        "outputId": "ad6bc9e7-03dc-45ba-b561-af0194181fb0"
      },
      "execution_count": 52,
      "outputs": [
        {
          "output_type": "execute_result",
          "data": {
            "text/plain": [
              "   w   y\n",
              "a  0   2\n",
              "c  8  10"
            ],
            "text/html": [
              "\n",
              "  <div id=\"df-40886d4d-38ee-4b36-8c22-8a9372834a6c\" class=\"colab-df-container\">\n",
              "    <div>\n",
              "<style scoped>\n",
              "    .dataframe tbody tr th:only-of-type {\n",
              "        vertical-align: middle;\n",
              "    }\n",
              "\n",
              "    .dataframe tbody tr th {\n",
              "        vertical-align: top;\n",
              "    }\n",
              "\n",
              "    .dataframe thead th {\n",
              "        text-align: right;\n",
              "    }\n",
              "</style>\n",
              "<table border=\"1\" class=\"dataframe\">\n",
              "  <thead>\n",
              "    <tr style=\"text-align: right;\">\n",
              "      <th></th>\n",
              "      <th>w</th>\n",
              "      <th>y</th>\n",
              "    </tr>\n",
              "  </thead>\n",
              "  <tbody>\n",
              "    <tr>\n",
              "      <th>a</th>\n",
              "      <td>0</td>\n",
              "      <td>2</td>\n",
              "    </tr>\n",
              "    <tr>\n",
              "      <th>c</th>\n",
              "      <td>8</td>\n",
              "      <td>10</td>\n",
              "    </tr>\n",
              "  </tbody>\n",
              "</table>\n",
              "</div>\n",
              "    <div class=\"colab-df-buttons\">\n",
              "\n",
              "  <div class=\"colab-df-container\">\n",
              "    <button class=\"colab-df-convert\" onclick=\"convertToInteractive('df-40886d4d-38ee-4b36-8c22-8a9372834a6c')\"\n",
              "            title=\"Convert this dataframe to an interactive table.\"\n",
              "            style=\"display:none;\">\n",
              "\n",
              "  <svg xmlns=\"http://www.w3.org/2000/svg\" height=\"24px\" viewBox=\"0 -960 960 960\">\n",
              "    <path d=\"M120-120v-720h720v720H120Zm60-500h600v-160H180v160Zm220 220h160v-160H400v160Zm0 220h160v-160H400v160ZM180-400h160v-160H180v160Zm440 0h160v-160H620v160ZM180-180h160v-160H180v160Zm440 0h160v-160H620v160Z\"/>\n",
              "  </svg>\n",
              "    </button>\n",
              "\n",
              "  <style>\n",
              "    .colab-df-container {\n",
              "      display:flex;\n",
              "      gap: 12px;\n",
              "    }\n",
              "\n",
              "    .colab-df-convert {\n",
              "      background-color: #E8F0FE;\n",
              "      border: none;\n",
              "      border-radius: 50%;\n",
              "      cursor: pointer;\n",
              "      display: none;\n",
              "      fill: #1967D2;\n",
              "      height: 32px;\n",
              "      padding: 0 0 0 0;\n",
              "      width: 32px;\n",
              "    }\n",
              "\n",
              "    .colab-df-convert:hover {\n",
              "      background-color: #E2EBFA;\n",
              "      box-shadow: 0px 1px 2px rgba(60, 64, 67, 0.3), 0px 1px 3px 1px rgba(60, 64, 67, 0.15);\n",
              "      fill: #174EA6;\n",
              "    }\n",
              "\n",
              "    .colab-df-buttons div {\n",
              "      margin-bottom: 4px;\n",
              "    }\n",
              "\n",
              "    [theme=dark] .colab-df-convert {\n",
              "      background-color: #3B4455;\n",
              "      fill: #D2E3FC;\n",
              "    }\n",
              "\n",
              "    [theme=dark] .colab-df-convert:hover {\n",
              "      background-color: #434B5C;\n",
              "      box-shadow: 0px 1px 3px 1px rgba(0, 0, 0, 0.15);\n",
              "      filter: drop-shadow(0px 1px 2px rgba(0, 0, 0, 0.3));\n",
              "      fill: #FFFFFF;\n",
              "    }\n",
              "  </style>\n",
              "\n",
              "    <script>\n",
              "      const buttonEl =\n",
              "        document.querySelector('#df-40886d4d-38ee-4b36-8c22-8a9372834a6c button.colab-df-convert');\n",
              "      buttonEl.style.display =\n",
              "        google.colab.kernel.accessAllowed ? 'block' : 'none';\n",
              "\n",
              "      async function convertToInteractive(key) {\n",
              "        const element = document.querySelector('#df-40886d4d-38ee-4b36-8c22-8a9372834a6c');\n",
              "        const dataTable =\n",
              "          await google.colab.kernel.invokeFunction('convertToInteractive',\n",
              "                                                    [key], {});\n",
              "        if (!dataTable) return;\n",
              "\n",
              "        const docLinkHtml = 'Like what you see? Visit the ' +\n",
              "          '<a target=\"_blank\" href=https://colab.research.google.com/notebooks/data_table.ipynb>data table notebook</a>'\n",
              "          + ' to learn more about interactive tables.';\n",
              "        element.innerHTML = '';\n",
              "        dataTable['output_type'] = 'display_data';\n",
              "        await google.colab.output.renderOutput(dataTable, element);\n",
              "        const docLink = document.createElement('div');\n",
              "        docLink.innerHTML = docLinkHtml;\n",
              "        element.appendChild(docLink);\n",
              "      }\n",
              "    </script>\n",
              "  </div>\n",
              "\n",
              "\n",
              "<div id=\"df-28340dd1-86c9-4762-a5b5-b3c893c7329c\">\n",
              "  <button class=\"colab-df-quickchart\" onclick=\"quickchart('df-28340dd1-86c9-4762-a5b5-b3c893c7329c')\"\n",
              "            title=\"Suggest charts.\"\n",
              "            style=\"display:none;\">\n",
              "\n",
              "<svg xmlns=\"http://www.w3.org/2000/svg\" height=\"24px\"viewBox=\"0 0 24 24\"\n",
              "     width=\"24px\">\n",
              "    <g>\n",
              "        <path d=\"M19 3H5c-1.1 0-2 .9-2 2v14c0 1.1.9 2 2 2h14c1.1 0 2-.9 2-2V5c0-1.1-.9-2-2-2zM9 17H7v-7h2v7zm4 0h-2V7h2v10zm4 0h-2v-4h2v4z\"/>\n",
              "    </g>\n",
              "</svg>\n",
              "  </button>\n",
              "\n",
              "<style>\n",
              "  .colab-df-quickchart {\n",
              "      --bg-color: #E8F0FE;\n",
              "      --fill-color: #1967D2;\n",
              "      --hover-bg-color: #E2EBFA;\n",
              "      --hover-fill-color: #174EA6;\n",
              "      --disabled-fill-color: #AAA;\n",
              "      --disabled-bg-color: #DDD;\n",
              "  }\n",
              "\n",
              "  [theme=dark] .colab-df-quickchart {\n",
              "      --bg-color: #3B4455;\n",
              "      --fill-color: #D2E3FC;\n",
              "      --hover-bg-color: #434B5C;\n",
              "      --hover-fill-color: #FFFFFF;\n",
              "      --disabled-bg-color: #3B4455;\n",
              "      --disabled-fill-color: #666;\n",
              "  }\n",
              "\n",
              "  .colab-df-quickchart {\n",
              "    background-color: var(--bg-color);\n",
              "    border: none;\n",
              "    border-radius: 50%;\n",
              "    cursor: pointer;\n",
              "    display: none;\n",
              "    fill: var(--fill-color);\n",
              "    height: 32px;\n",
              "    padding: 0;\n",
              "    width: 32px;\n",
              "  }\n",
              "\n",
              "  .colab-df-quickchart:hover {\n",
              "    background-color: var(--hover-bg-color);\n",
              "    box-shadow: 0 1px 2px rgba(60, 64, 67, 0.3), 0 1px 3px 1px rgba(60, 64, 67, 0.15);\n",
              "    fill: var(--button-hover-fill-color);\n",
              "  }\n",
              "\n",
              "  .colab-df-quickchart-complete:disabled,\n",
              "  .colab-df-quickchart-complete:disabled:hover {\n",
              "    background-color: var(--disabled-bg-color);\n",
              "    fill: var(--disabled-fill-color);\n",
              "    box-shadow: none;\n",
              "  }\n",
              "\n",
              "  .colab-df-spinner {\n",
              "    border: 2px solid var(--fill-color);\n",
              "    border-color: transparent;\n",
              "    border-bottom-color: var(--fill-color);\n",
              "    animation:\n",
              "      spin 1s steps(1) infinite;\n",
              "  }\n",
              "\n",
              "  @keyframes spin {\n",
              "    0% {\n",
              "      border-color: transparent;\n",
              "      border-bottom-color: var(--fill-color);\n",
              "      border-left-color: var(--fill-color);\n",
              "    }\n",
              "    20% {\n",
              "      border-color: transparent;\n",
              "      border-left-color: var(--fill-color);\n",
              "      border-top-color: var(--fill-color);\n",
              "    }\n",
              "    30% {\n",
              "      border-color: transparent;\n",
              "      border-left-color: var(--fill-color);\n",
              "      border-top-color: var(--fill-color);\n",
              "      border-right-color: var(--fill-color);\n",
              "    }\n",
              "    40% {\n",
              "      border-color: transparent;\n",
              "      border-right-color: var(--fill-color);\n",
              "      border-top-color: var(--fill-color);\n",
              "    }\n",
              "    60% {\n",
              "      border-color: transparent;\n",
              "      border-right-color: var(--fill-color);\n",
              "    }\n",
              "    80% {\n",
              "      border-color: transparent;\n",
              "      border-right-color: var(--fill-color);\n",
              "      border-bottom-color: var(--fill-color);\n",
              "    }\n",
              "    90% {\n",
              "      border-color: transparent;\n",
              "      border-bottom-color: var(--fill-color);\n",
              "    }\n",
              "  }\n",
              "</style>\n",
              "\n",
              "  <script>\n",
              "    async function quickchart(key) {\n",
              "      const quickchartButtonEl =\n",
              "        document.querySelector('#' + key + ' button');\n",
              "      quickchartButtonEl.disabled = true;  // To prevent multiple clicks.\n",
              "      quickchartButtonEl.classList.add('colab-df-spinner');\n",
              "      try {\n",
              "        const charts = await google.colab.kernel.invokeFunction(\n",
              "            'suggestCharts', [key], {});\n",
              "      } catch (error) {\n",
              "        console.error('Error during call to suggestCharts:', error);\n",
              "      }\n",
              "      quickchartButtonEl.classList.remove('colab-df-spinner');\n",
              "      quickchartButtonEl.classList.add('colab-df-quickchart-complete');\n",
              "    }\n",
              "    (() => {\n",
              "      let quickchartButtonEl =\n",
              "        document.querySelector('#df-28340dd1-86c9-4762-a5b5-b3c893c7329c button');\n",
              "      quickchartButtonEl.style.display =\n",
              "        google.colab.kernel.accessAllowed ? 'block' : 'none';\n",
              "    })();\n",
              "  </script>\n",
              "</div>\n",
              "    </div>\n",
              "  </div>\n"
            ]
          },
          "metadata": {},
          "execution_count": 52
        }
      ]
    },
    {
      "cell_type": "code",
      "source": [
        "\n",
        "import numpy as np\n",
        "from matplotlib import pyplot as plt\n",
        "\n",
        "ys = 200 + np.random.randn(100)\n",
        "x = [x for x in range(len(ys))]\n",
        "\n",
        "plt.plot(x, ys, '-')\n",
        "plt.fill_between(x, ys, 195, where=(ys > 200), facecolor='g', alpha=0.6)\n",
        "\n",
        "plt.title(\"Sample Visualization\")\n",
        "plt.show()"
      ],
      "metadata": {
        "colab": {
          "base_uri": "https://localhost:8080/",
          "height": 452
        },
        "id": "fqzrScL-GrZU",
        "outputId": "2f2b5f96-d457-483c-b3b0-d05b02e1751d"
      },
      "execution_count": 53,
      "outputs": [
        {
          "output_type": "display_data",
          "data": {
            "text/plain": [
              "<Figure size 640x480 with 1 Axes>"
            ],
            "image/png": "[encoded data removed]"
          },
          "metadata": {}
        }
      ]
    },
    {
      "cell_type": "code",
      "source": [
        "## Question 3 : Upload an image to your google drive, Use plt.imread to read image from the google drive and then print that image using plt.imshow\n",
        "\n",
        "\n",
        "## Answer 3 :\n",
        "\n",
        "## 1) make sure drive is loaded and then upload a test image onto your drive\n"
      ],
      "metadata": {
        "id": "mC8rNbeKxiaF"
      },
      "execution_count": 54,
      "outputs": []
    },
    {
      "cell_type": "markdown",
      "source": [
        "![nature pic.jpg](data:image/jpeg;base64,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)"
      ],
      "metadata": {
        "id": "E3Whwl8s2JNN"
      }
    },
    {
      "cell_type": "code",
      "source": [],
      "metadata": {
        "id": "CsbP4Jke2OsL"
      },
      "execution_count": null,
      "outputs": []
    }
  ]
}